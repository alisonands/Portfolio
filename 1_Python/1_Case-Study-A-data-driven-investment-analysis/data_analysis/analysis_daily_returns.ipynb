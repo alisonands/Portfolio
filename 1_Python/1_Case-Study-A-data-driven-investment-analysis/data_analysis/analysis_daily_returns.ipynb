{
 "cells": [
  {
   "cell_type": "markdown",
   "metadata": {},
   "source": [
    "## Overall annual daily returns of the Tech Industry"
   ]
  },
  {
   "cell_type": "code",
   "execution_count": 1,
   "metadata": {},
   "outputs": [],
   "source": [
    "# imports \n",
    "import pandas as pd\n",
    "import matplotlib.pyplot as plt"
   ]
  },
  {
   "cell_type": "code",
   "execution_count": 2,
   "metadata": {},
   "outputs": [],
   "source": [
    "# preprocessing\n",
    "df = pd.read_csv('../data_gathering/daily_close.csv').dropna(how='any')\n",
    "df = df.set_index('Date')\n",
    "df.index = pd.to_datetime(df.index, utc=True)\n",
    "df = df[df['Close'] != 0]"
   ]
  },
  {
   "cell_type": "code",
   "execution_count": 3,
   "metadata": {},
   "outputs": [
    {
     "data": {
      "text/plain": [
       "519"
      ]
     },
     "execution_count": 3,
     "metadata": {},
     "output_type": "execute_result"
    }
   ],
   "source": [
    "data = pd.read_csv('../raw_data/tech.csv').dropna(how = 'any', axis = 0)\n",
    "data = data.sort_values(by='Market Cap', ascending=False).reset_index()\n",
    "symbols = data['Symbol']\n",
    "len(symbols)"
   ]
  },
  {
   "cell_type": "code",
   "execution_count": null,
   "metadata": {},
   "outputs": [],
   "source": [
    "# calculate daily returns\n",
    "annual_returns_list = []\n",
    "no_data_stocks = []\n",
    "for i, ticker in enumerate(symbols):\n",
    "    try:\n",
    "        print(f'calculating annual returns of {ticker} stock {i}/{len(symbols)}')\n",
    "        annual_returns_ticker = df[df['ticker'] == ticker]\n",
    "        annual_returns = annual_returns_ticker['Close'].resample('A')\n",
    "        annual_returns_df = pd.DataFrame((annual_returns.last()-annual_returns.first())/annual_returns.last())\n",
    "        annual_returns_df['ticker'] = ticker\n",
    "        annual_returns_list.append(annual_returns_df)\n",
    "    except:\n",
    "        print(f'ticker {ticker} not found')\n",
    "        no_data_stocks.append(ticker)"
   ]
  },
  {
   "cell_type": "code",
   "execution_count": 15,
   "metadata": {},
   "outputs": [
    {
     "data": {
      "text/html": [
       "<div>\n",
       "<style scoped>\n",
       "    .dataframe tbody tr th:only-of-type {\n",
       "        vertical-align: middle;\n",
       "    }\n",
       "\n",
       "    .dataframe tbody tr th {\n",
       "        vertical-align: top;\n",
       "    }\n",
       "\n",
       "    .dataframe thead th {\n",
       "        text-align: right;\n",
       "    }\n",
       "</style>\n",
       "<table border=\"1\" class=\"dataframe\">\n",
       "  <thead>\n",
       "    <tr style=\"text-align: right;\">\n",
       "      <th></th>\n",
       "      <th>Close</th>\n",
       "      <th>ticker</th>\n",
       "    </tr>\n",
       "    <tr>\n",
       "      <th>Date</th>\n",
       "      <th></th>\n",
       "      <th></th>\n",
       "    </tr>\n",
       "  </thead>\n",
       "  <tbody>\n",
       "    <tr>\n",
       "      <th>1994-01-10 05:00:00+00:00</th>\n",
       "      <td>0.248125</td>\n",
       "      <td>AAPL</td>\n",
       "    </tr>\n",
       "    <tr>\n",
       "      <th>1994-01-11 05:00:00+00:00</th>\n",
       "      <td>0.235212</td>\n",
       "      <td>AAPL</td>\n",
       "    </tr>\n",
       "    <tr>\n",
       "      <th>1994-01-12 05:00:00+00:00</th>\n",
       "      <td>0.225065</td>\n",
       "      <td>AAPL</td>\n",
       "    </tr>\n",
       "    <tr>\n",
       "      <th>1994-01-13 05:00:00+00:00</th>\n",
       "      <td>0.225988</td>\n",
       "      <td>AAPL</td>\n",
       "    </tr>\n",
       "    <tr>\n",
       "      <th>1994-01-14 05:00:00+00:00</th>\n",
       "      <td>0.228755</td>\n",
       "      <td>AAPL</td>\n",
       "    </tr>\n",
       "    <tr>\n",
       "      <th>...</th>\n",
       "      <td>...</td>\n",
       "      <td>...</td>\n",
       "    </tr>\n",
       "    <tr>\n",
       "      <th>2024-01-03 05:00:00+00:00</th>\n",
       "      <td>10.840000</td>\n",
       "      <td>WAVS</td>\n",
       "    </tr>\n",
       "    <tr>\n",
       "      <th>2024-01-04 05:00:00+00:00</th>\n",
       "      <td>10.860000</td>\n",
       "      <td>WAVS</td>\n",
       "    </tr>\n",
       "    <tr>\n",
       "      <th>2024-01-05 05:00:00+00:00</th>\n",
       "      <td>10.890000</td>\n",
       "      <td>WAVS</td>\n",
       "    </tr>\n",
       "    <tr>\n",
       "      <th>2024-01-08 05:00:00+00:00</th>\n",
       "      <td>10.890000</td>\n",
       "      <td>WAVS</td>\n",
       "    </tr>\n",
       "    <tr>\n",
       "      <th>2024-01-09 05:00:00+00:00</th>\n",
       "      <td>10.760000</td>\n",
       "      <td>WAVS</td>\n",
       "    </tr>\n",
       "  </tbody>\n",
       "</table>\n",
       "<p>1315933 rows × 2 columns</p>\n",
       "</div>"
      ],
      "text/plain": [
       "                               Close ticker\n",
       "Date                                       \n",
       "1994-01-10 05:00:00+00:00   0.248125   AAPL\n",
       "1994-01-11 05:00:00+00:00   0.235212   AAPL\n",
       "1994-01-12 05:00:00+00:00   0.225065   AAPL\n",
       "1994-01-13 05:00:00+00:00   0.225988   AAPL\n",
       "1994-01-14 05:00:00+00:00   0.228755   AAPL\n",
       "...                              ...    ...\n",
       "2024-01-03 05:00:00+00:00  10.840000   WAVS\n",
       "2024-01-04 05:00:00+00:00  10.860000   WAVS\n",
       "2024-01-05 05:00:00+00:00  10.890000   WAVS\n",
       "2024-01-08 05:00:00+00:00  10.890000   WAVS\n",
       "2024-01-09 05:00:00+00:00  10.760000   WAVS\n",
       "\n",
       "[1315933 rows x 2 columns]"
      ]
     },
     "execution_count": 15,
     "metadata": {},
     "output_type": "execute_result"
    }
   ],
   "source": [
    "annual_returns = pd.concat(annual_returns_list)\n",
    "# annual_returns.to_csv('../data_gathering/annual_returns.csv')\n",
    "df"
   ]
  },
  {
   "cell_type": "markdown",
   "metadata": {},
   "source": [
    "### sum annual returns"
   ]
  },
  {
   "cell_type": "code",
   "execution_count": 35,
   "metadata": {},
   "outputs": [],
   "source": [
    "df = df.reset_index()\n",
    "df['Date'] = pd.to_datetime(df['Date'], utc=True)\n",
    "df['Date'] = df['Date'].dt.year"
   ]
  },
  {
   "cell_type": "code",
   "execution_count": 38,
   "metadata": {},
   "outputs": [
    {
     "data": {
      "text/html": [
       "<div>\n",
       "<style scoped>\n",
       "    .dataframe tbody tr th:only-of-type {\n",
       "        vertical-align: middle;\n",
       "    }\n",
       "\n",
       "    .dataframe tbody tr th {\n",
       "        vertical-align: top;\n",
       "    }\n",
       "\n",
       "    .dataframe thead th {\n",
       "        text-align: right;\n",
       "    }\n",
       "</style>\n",
       "<table border=\"1\" class=\"dataframe\">\n",
       "  <thead>\n",
       "    <tr style=\"text-align: right;\">\n",
       "      <th></th>\n",
       "      <th>Date</th>\n",
       "      <th>ticker</th>\n",
       "      <th>Close</th>\n",
       "    </tr>\n",
       "  </thead>\n",
       "  <tbody>\n",
       "    <tr>\n",
       "      <th>0</th>\n",
       "      <td>1994</td>\n",
       "      <td>AAPL</td>\n",
       "      <td>62.664852</td>\n",
       "    </tr>\n",
       "    <tr>\n",
       "      <th>1</th>\n",
       "      <td>1994</td>\n",
       "      <td>ADBE</td>\n",
       "      <td>899.611626</td>\n",
       "    </tr>\n",
       "    <tr>\n",
       "      <th>2</th>\n",
       "      <td>1994</td>\n",
       "      <td>ALOT</td>\n",
       "      <td>961.257257</td>\n",
       "    </tr>\n",
       "    <tr>\n",
       "      <th>3</th>\n",
       "      <td>1994</td>\n",
       "      <td>AMAT</td>\n",
       "      <td>521.516714</td>\n",
       "    </tr>\n",
       "    <tr>\n",
       "      <th>4</th>\n",
       "      <td>1994</td>\n",
       "      <td>ASGN</td>\n",
       "      <td>789.968750</td>\n",
       "    </tr>\n",
       "    <tr>\n",
       "      <th>...</th>\n",
       "      <td>...</td>\n",
       "      <td>...</td>\n",
       "      <td>...</td>\n",
       "    </tr>\n",
       "    <tr>\n",
       "      <th>5971</th>\n",
       "      <td>2024</td>\n",
       "      <td>ZETA</td>\n",
       "      <td>58.230000</td>\n",
       "    </tr>\n",
       "    <tr>\n",
       "      <th>5972</th>\n",
       "      <td>2024</td>\n",
       "      <td>ZI</td>\n",
       "      <td>117.360001</td>\n",
       "    </tr>\n",
       "    <tr>\n",
       "      <th>5973</th>\n",
       "      <td>2024</td>\n",
       "      <td>ZM</td>\n",
       "      <td>474.555000</td>\n",
       "    </tr>\n",
       "    <tr>\n",
       "      <th>5974</th>\n",
       "      <td>2024</td>\n",
       "      <td>ZS</td>\n",
       "      <td>1512.589996</td>\n",
       "    </tr>\n",
       "    <tr>\n",
       "      <th>5975</th>\n",
       "      <td>2024</td>\n",
       "      <td>ZUO</td>\n",
       "      <td>58.998301</td>\n",
       "    </tr>\n",
       "  </tbody>\n",
       "</table>\n",
       "<p>5976 rows × 3 columns</p>\n",
       "</div>"
      ],
      "text/plain": [
       "      Date ticker        Close\n",
       "0     1994   AAPL    62.664852\n",
       "1     1994   ADBE   899.611626\n",
       "2     1994   ALOT   961.257257\n",
       "3     1994   AMAT   521.516714\n",
       "4     1994   ASGN   789.968750\n",
       "...    ...    ...          ...\n",
       "5971  2024   ZETA    58.230000\n",
       "5972  2024     ZI   117.360001\n",
       "5973  2024     ZM   474.555000\n",
       "5974  2024     ZS  1512.589996\n",
       "5975  2024    ZUO    58.998301\n",
       "\n",
       "[5976 rows x 3 columns]"
      ]
     },
     "execution_count": 38,
     "metadata": {},
     "output_type": "execute_result"
    }
   ],
   "source": [
    "pd.reset_option('display.max_rows')\n",
    "df.groupby(['Date','ticker'])['Close'].sum().reset_index()\n"
   ]
  },
  {
   "cell_type": "code",
   "execution_count": 31,
   "metadata": {},
   "outputs": [
    {
     "data": {
      "text/plain": [
       "[<matplotlib.lines.Line2D at 0x2a2d76610>]"
      ]
     },
     "execution_count": 31,
     "metadata": {},
     "output_type": "execute_result"
    },
    {
     "data": {
      "image/png": "[encoded data removed]",
      "text/plain": [
       "<Figure size 640x480 with 1 Axes>"
      ]
     },
     "metadata": {},
     "output_type": "display_data"
    }
   ],
   "source": [
    "df = df[df['ticker'] == 'AAPL']\n",
    "annual_returns = df['Close'].resample('A')\n",
    "plt.plot((annual_returns.last()-annual_returns.first())/annual_returns.last(), '.')"
   ]
  },
  {
   "cell_type": "code",
   "execution_count": null,
   "metadata": {},
   "outputs": [
    {
     "data": {
      "text/plain": [
       "Date\n",
       "1994-12-31 00:00:00-05:00           NaN\n",
       "1995-12-31 00:00:00-05:00           NaN\n",
       "1996-12-31 00:00:00-05:00      6.403062\n",
       "1997-12-31 00:00:00-05:00     10.016294\n",
       "1998-12-31 00:00:00-05:00     21.495306\n",
       "1999-12-31 00:00:00-05:00     36.190376\n",
       "2000-12-31 00:00:00-05:00           NaN\n",
       "2001-12-31 00:00:00-05:00     20.536299\n",
       "2002-12-31 00:00:00-05:00     16.026058\n",
       "2003-12-31 00:00:00-05:00     17.118469\n",
       "2004-12-31 00:00:00-05:00     18.681070\n",
       "2005-12-31 00:00:00-05:00           NaN\n",
       "2006-12-31 00:00:00-05:00           NaN\n",
       "2007-12-31 00:00:00-05:00     25.905088\n",
       "2008-12-31 00:00:00-05:00     14.406952\n",
       "2009-12-31 00:00:00-05:00     23.118437\n",
       "2010-12-31 00:00:00-05:00     21.610043\n",
       "2011-12-31 00:00:00-05:00           NaN\n",
       "2012-12-31 00:00:00-05:00     21.830753\n",
       "2013-12-31 00:00:00-05:00     31.501337\n",
       "2014-12-31 00:00:00-05:00     40.184559\n",
       "2015-12-31 00:00:00-05:00     49.303169\n",
       "2016-12-31 00:00:00-05:00           NaN\n",
       "2017-12-31 00:00:00-05:00           NaN\n",
       "2018-12-31 00:00:00-05:00     96.450592\n",
       "2019-12-31 00:00:00-05:00    151.965714\n",
       "2020-12-31 00:00:00-05:00    216.602890\n",
       "2021-12-31 00:00:00-05:00    330.269470\n",
       "2022-12-31 00:00:00-05:00           NaN\n",
       "2023-12-31 00:00:00-05:00           NaN\n",
       "2024-12-31 00:00:00-05:00           NaN\n",
       "Freq: A-DEC, Name: Close, dtype: float64"
      ]
     },
     "metadata": {},
     "output_type": "display_data"
    }
   ],
   "source": [
    "annual_returns.asfreq()"
   ]
  }
 ],
 "metadata": {
  "kernelspec": {
   "display_name": "base",
   "language": "python",
   "name": "python3"
  },
  "language_info": {
   "codemirror_mode": {
    "name": "ipython",
    "version": 3
   },
   "file_extension": ".py",
   "mimetype": "text/x-python",
   "name": "python",
   "nbconvert_exporter": "python",
   "pygments_lexer": "ipython3",
   "version": "3.11.7"
  }
 },
 "nbformat": 4,
 "nbformat_minor": 2
}
